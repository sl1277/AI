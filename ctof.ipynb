{
 "cells": [
  {
   "cell_type": "markdown",
   "metadata": {},
   "source": [
    "# Please do temperature conversion. Given a Celsius temperature, please change it to Fahrenheit"
   ]
  },
  {
   "cell_type": "code",
   "execution_count": 6,
   "metadata": {},
   "outputs": [
    {
     "name": "stdout",
     "output_type": "stream",
     "text": [
      "0\n",
      "celsius is: 0\n",
      "fahrenheit is: 32.0\n"
     ]
    }
   ],
   "source": [
    "c = int(input())\n",
    "print('celsius is: ', end='')\n",
    "print(c)\n",
    "\n",
    "## write your code here"
   ]
  },
  {
   "cell_type": "code",
   "execution_count": 1,
   "metadata": {},
   "outputs": [
    {
     "name": "stdout",
     "output_type": "stream",
     "text": [
      "25\n",
      "celsius is: \n",
      "Fahrenheit is: \n"
     ]
    }
   ],
   "source": [
    "c = int(input())\n",
    "print('celsius is: '.format(c))\n",
    "f = (9/5) * c +32\n",
    "print('Fahrenheit is: '.format(f))"
   ]
  },
  {
   "cell_type": "code",
   "execution_count": 6,
   "metadata": {},
   "outputs": [
    {
     "name": "stdout",
     "output_type": "stream",
     "text": [
      "28\n",
      "celsius is 28\n",
      "Fahrenheit is 82.4 \n"
     ]
    }
   ],
   "source": [
    "c = int(input())\n",
    "print('celsius is {}'.format(c))\n",
    "f = (9/5) * c +32\n",
    "print('Fahrenheit is {} '.format(f))"
   ]
  },
  {
   "cell_type": "code",
   "execution_count": null,
   "metadata": {},
   "outputs": [],
   "source": []
  }
 ],
 "metadata": {
  "kernelspec": {
   "display_name": "Python 3 (ipykernel)",
   "language": "python",
   "name": "python3"
  },
  "language_info": {
   "codemirror_mode": {
    "name": "ipython",
    "version": 3
   },
   "file_extension": ".py",
   "mimetype": "text/x-python",
   "name": "python",
   "nbconvert_exporter": "python",
   "pygments_lexer": "ipython3",
   "version": "3.9.7"
  }
 },
 "nbformat": 4,
 "nbformat_minor": 4
}
